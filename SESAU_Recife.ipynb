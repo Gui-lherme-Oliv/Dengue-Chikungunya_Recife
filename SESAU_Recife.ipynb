{
  "nbformat": 4,
  "nbformat_minor": 0,
  "metadata": {
    "colab": {
      "provenance": []
    },
    "kernelspec": {
      "name": "python3",
      "display_name": "Python 3"
    },
    "language_info": {
      "name": "python"
    }
  },
  "cells": [
    {
      "cell_type": "code",
      "execution_count": null,
      "metadata": {
        "id": "CaBWSn9OuLc0"
      },
      "outputs": [],
      "source": [
        "import pandas as pd\n",
        "\n",
        "# Lendo os arquivos CSV\n",
        "df_chk20 = pd.read_csv('chikon2020_recife.csv', sep=';')\n",
        "df_chk21 = pd.read_csv('chikon2021_recife.csv', sep=';')\n",
        "df_dng20 = pd.read_csv('dengon2020_recife.csv', sep=';')\n",
        "df_dng21 = pd.read_csv('dengon2021_recife.csv', sep=';')\n",
        "\n",
        "# Adicionando o atributo para identificar a doença\n",
        "dataframes = [\n",
        "    (df_chk20, 'chikungunya'),\n",
        "    (df_chk21, 'chikungunya'),\n",
        "    (df_dng20, 'dengue'),\n",
        "    (df_dng21, 'dengue')]\n",
        "\n",
        "# Selecionando apenas os atributos solicitados\n",
        "lista_dataframes = []\n",
        "\n",
        "for df, doenca in dataframes:\n",
        "  df['doenca'] = doenca\n",
        "  lista_dataframes.append(df[['nu_notificacao', 'dt_notificacao', 'ds_semana_notificacao',\n",
        "                             'dt_diagnostico_sintoma', 'dt_nascimento', 'co_distrito_residencia',\n",
        "                             'tp_sexo', 'tp_gestante', 'tp_raca_cor', 'tp_escolaridade',\n",
        "                             'co_uf_residencia', 'co_bairro_residencia', 'no_bairro_residencia',\n",
        "                             'febre', 'mialgia', 'cefaleia', 'exantema', 'vomito', 'nausea', 'dor_costas',\n",
        "                             'conjutivite', 'artrite', 'artralgia', 'petequia_n', 'leucopenia', 'laco',\n",
        "                             'dor_retro', 'diabetes', 'hematolog', 'hepatopat', 'renal', 'hipertensao',\n",
        "                             'acido_pept', 'auto_imune', 'doenca']])\n",
        "\n",
        "# Concatenando todos os dataframes em um único\n",
        "df_concat = pd.concat(lista_dataframes, ignore_index=True)"
      ]
    },
    {
      "cell_type": "code",
      "source": [
        "# Análise inicial\n",
        "print('Dimensões:\\n', df_concat.shape)\n",
        "print('Tipos:\\n', df_concat.dtypes)\n",
        "print('Estatísticas:\\n', df_concat.describe())\n",
        "print('Linhas duplicadas:\\n', df_concat[df_concat.duplicated()])\n",
        "print('Quantidade de valores nulos:\\n', (df_concat.isnull().sum()).sort_values(ascending=False))"
      ],
      "metadata": {
        "id": "tUmsBsxD8kRT"
      },
      "execution_count": null,
      "outputs": []
    },
    {
      "cell_type": "code",
      "source": [
        "# Exportando o dataframe em formato CSV\n",
        "df_concat.to_csv('planilha_chikon-dengon_concat.csv', index=False)"
      ],
      "metadata": {
        "id": "MF0Z33GR0879"
      },
      "execution_count": null,
      "outputs": []
    }
  ]
}